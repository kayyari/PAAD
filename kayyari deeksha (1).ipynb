{
 "cells": [
  {
   "cell_type": "code",
   "execution_count": null,
   "metadata": {},
   "outputs": [],
   "source": [
    "install.packages(\"cmapR\")\n",
    "library(\"cmapR\")\n",
    "data=read.gct(\"C:/Users/deeksha/Documents/paad.gct\")\n",
    "head(data)\n"
   ]
  },
  {
   "cell_type": "code",
   "execution_count": null,
   "metadata": {},
   "outputs": [],
   "source": [
    "df = subset(data, select = -(\"neuroendocrine\") )"
   ]
  },
  {
   "cell_type": "code",
   "execution_count": null,
   "metadata": {},
   "outputs": [],
   "source": [
    "![pca](\"c:/users/downloads/\"newplot.png\")"
   ]
  },
  {
   "cell_type": "code",
   "execution_count": null,
   "metadata": {},
   "outputs": [],
   "source": [
    "#we can see a majority of adenocarcinomas than neurocarcinoma\n",
    "#yes they clearly separable\n",
    "#we can differentiate the data in two broad categories based on the type of histology"
   ]
  },
  {
   "cell_type": "code",
   "execution_count": null,
   "metadata": {},
   "outputs": [],
   "source": [
    "ifn1.to_csv('ifn1.csv')\n",
    "!cp ifn1.csv \"/content/drive/My Drive/Colab Notebooks/data/\"\n",
    "\n",
    "ifn1=read.csv(\"c:/users/deeksha/documents/paad.gct\")\n",
    "print(ifn1)"
   ]
  }
 ],
 "metadata": {
  "kernelspec": {
   "display_name": "Python 3",
   "language": "python",
   "name": "python3"
  },
  "language_info": {
   "codemirror_mode": {
    "name": "ipython",
    "version": 3
   },
   "file_extension": ".py",
   "mimetype": "text/x-python",
   "name": "python",
   "nbconvert_exporter": "python",
   "pygments_lexer": "ipython3",
   "version": "3.8.3"
  }
 },
 "nbformat": 4,
 "nbformat_minor": 4
}
